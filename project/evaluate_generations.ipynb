{
 "cells": [
  {
   "cell_type": "code",
   "execution_count": 2,
   "id": "adbf2c04-ddfb-4598-a493-98ed672509d3",
   "metadata": {},
   "outputs": [],
   "source": [
    "%load_ext autoreload\n",
    "%autoreload 2"
   ]
  },
  {
   "cell_type": "code",
   "execution_count": 3,
   "id": "190864ed-bb66-49bf-a3cf-5a77b438362f",
   "metadata": {},
   "outputs": [
    {
     "name": "stdout",
     "output_type": "stream",
     "text": [
      "logging improved.\n"
     ]
    }
   ],
   "source": [
    "import sys\n",
    "sys.path.append('..')\n",
    "\n",
    "import os\n",
    "import cv2\n",
    "import numpy as np\n",
    "import torch\n",
    "from PIL import Image\n",
    "from pytorch_lightning import seed_everything\n",
    "from tqdm import tqdm\n",
    "\n",
    "from cldm.model import create_model, load_state_dict\n",
    "from dataset import PhotoSketchDataset\n",
    "from inference import run_sampler\n",
    "from share import *"
   ]
  },
  {
   "cell_type": "markdown",
   "id": "fd37078e",
   "metadata": {},
   "source": [
    "# Get dataset"
   ]
  },
  {
   "cell_type": "code",
   "execution_count": 5,
   "id": "339dbd1a-7836-4aae-aa35-474edebe7a89",
   "metadata": {},
   "outputs": [],
   "source": [
    "dataset = PhotoSketchDataset(split=\"test\", data_dir=\"./data/sketch\")"
   ]
  },
  {
   "cell_type": "code",
   "execution_count": 24,
   "id": "30a52c3e",
   "metadata": {},
   "outputs": [],
   "source": [
    "gold_images = [torch.Tensor(cv2.imread(dataset.images[i])) for i in range(len(dataset))]\n",
    "NUM_IMGS = len(gold_images)\n",
    "\n",
    "# gen_dir should contain all the generated test images\n",
    "def get_generations(gen_dir, num_gens):\n",
    "    generations = [torch.Tensor(cv2.imread(os.path.join(gen_dir, f\"image_{i:03d}.jpg\"))) for i in range(num_gens)]\n",
    "    return generations"
   ]
  },
  {
   "cell_type": "code",
   "execution_count": 9,
   "id": "deb218ca-d9a4-47ce-8153-c0331284419f",
   "metadata": {},
   "outputs": [],
   "source": [
    "from ast import literal_eval\n",
    "\n",
    "prompts = []\n",
    "for i in range(NUM_IMGS):\n",
    "    prompt_file = dataset.prompts[i]\n",
    "    with open(prompt_file) as f:\n",
    "        prompt = literal_eval(f.read().strip())[0]\n",
    "        prompts.append(prompt)"
   ]
  },
  {
   "cell_type": "code",
   "execution_count": 15,
   "id": "bd8abede-16a2-41b0-9e65-aa1fe7ae6728",
   "metadata": {},
   "outputs": [],
   "source": [
    "from torchmetrics.image.fid import FrechetInceptionDistance\n",
    "\n",
    "def eval_fid(gold_images, generated_images):\n",
    "    # fid = FrechetInceptionDistance(normalize=True, device=torch.device(\"cuda:6\"))\n",
    "    fid = FrechetInceptionDistance(normalize=True)\n",
    "    fid.update(torch.stack(gold_images).permute(0, 3, 1, 2), real=True)\n",
    "    fid.update(torch.stack(generated_images).permute(0, 3, 1, 2), real=False)\n",
    "\n",
    "    print(f\"FID: {float(fid.compute())}\")"
   ]
  },
  {
   "cell_type": "code",
   "execution_count": 32,
   "id": "34c8edcf",
   "metadata": {},
   "outputs": [],
   "source": [
    "from torchmetrics.functional.multimodal import clip_score\n",
    "from functools import partial\n",
    "\n",
    "clip_score_fn = partial(clip_score, model_name_or_path=\"openai/clip-vit-base-patch16\")\n",
    "\n",
    "def calculate_clip_score(images, prompts):\n",
    "    # TODO: multiply by 255?\n",
    "#     images_int = (images * 255).astype(\"uint8\")\n",
    "    images_int = (images * 255)\n",
    "    clip_score = clip_score_fn(images, prompts).detach()\n",
    "    return round(float(clip_score), 4)\n",
    "\n",
    "def eval_clip(generated_images, prompts):\n",
    "    clip_scores = [calculate_clip_score(generated_images, prompts)]\n",
    "    print(f\"CLIP score: {np.mean(clip_scores)}\")\n",
    "# CLIP score: 35.7038"
   ]
  },
  {
   "cell_type": "code",
   "execution_count": null,
   "id": "102466c1",
   "metadata": {},
   "outputs": [
    {
     "name": "stdout",
     "output_type": "stream",
     "text": [
      "\n",
      "====================================================================================\n",
      "Running inference for experiment 0/6: lr=1e-05_bs=2\n",
      "Reading images from: /raid/lingo/alexisro/ControlNet/project/generations/lr=1e-05_bs=2\n"
     ]
    }
   ],
   "source": [
    "import fnmatch\n",
    "import os\n",
    "\n",
    "experiments = [\n",
    "    'lr=1e-05_bs=2',\n",
    "    'lr=1e-05_bs=4',\n",
    "    'lr=5e-05_bs=2',\n",
    "    'lr=5e-05_bs=4',\n",
    "    'lr=5e-06_bs=2',\n",
    "    'lr=5e-06_bs=4',\n",
    "]\n",
    "\n",
    "gen_dir='/raid/lingo/alexisro/ControlNet/project/generations'\n",
    "    \n",
    "for exp_idx, exp in enumerate(experiments):\n",
    "    print(\"\\n====================================================================================\")\n",
    "    print(f\"Running inference for experiment {exp_idx}/{len(experiments)}:\", exp)\n",
    "    gen_path = f'/raid/lingo/alexisro/ControlNet/project/generations/{exp}'\n",
    "    print(\"Reading images from:\", gen_path)\n",
    "    num_imgs = 20\n",
    "    generated_images = get_generations(gen_path, num_imgs)\n",
    "    eval_clip(generated_images, prompts[:num_imgs])"
   ]
  },
  {
   "cell_type": "code",
   "execution_count": null,
   "id": "808e7d9e",
   "metadata": {},
   "outputs": [],
   "source": []
  }
 ],
 "metadata": {
  "kernelspec": {
   "display_name": "Python 3 (ipykernel)",
   "language": "python",
   "name": "python3"
  },
  "language_info": {
   "codemirror_mode": {
    "name": "ipython",
    "version": 3
   },
   "file_extension": ".py",
   "mimetype": "text/x-python",
   "name": "python",
   "nbconvert_exporter": "python",
   "pygments_lexer": "ipython3",
   "version": "3.8.5"
  }
 },
 "nbformat": 4,
 "nbformat_minor": 5
}
