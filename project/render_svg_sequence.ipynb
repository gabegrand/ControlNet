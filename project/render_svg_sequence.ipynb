{
 "cells": [
  {
   "cell_type": "code",
   "execution_count": 1,
   "id": "adbf2c04-ddfb-4598-a493-98ed672509d3",
   "metadata": {},
   "outputs": [],
   "source": [
    "%load_ext autoreload\n",
    "%autoreload 2"
   ]
  },
  {
   "cell_type": "code",
   "execution_count": 2,
   "id": "284e7fa6-87a4-44ef-99f0-bd52af0cf6d1",
   "metadata": {},
   "outputs": [
    {
     "name": "stdout",
     "output_type": "stream",
     "text": [
      "env: CUDA_DEVICE_ORDER=PCI_BUS_ID\n",
      "env: CUDA_VISIBLE_DEVICES=15\n"
     ]
    }
   ],
   "source": [
    "%env CUDA_DEVICE_ORDER=PCI_BUS_ID\n",
    "%env CUDA_VISIBLE_DEVICES=15"
   ]
  },
  {
   "cell_type": "code",
   "execution_count": 3,
   "id": "190864ed-bb66-49bf-a3cf-5a77b438362f",
   "metadata": {},
   "outputs": [
    {
     "name": "stderr",
     "output_type": "stream",
     "text": [
      "/raid/lingo/grandg/miniconda3/envs/control/lib/python3.8/site-packages/tqdm/auto.py:21: TqdmWarning: IProgress not found. Please update jupyter and ipywidgets. See https://ipywidgets.readthedocs.io/en/stable/user_install.html\n",
      "  from .autonotebook import tqdm as notebook_tqdm\n"
     ]
    },
    {
     "name": "stdout",
     "output_type": "stream",
     "text": [
      "logging improved.\n"
     ]
    }
   ],
   "source": [
    "import sys\n",
    "sys.path.append('..')\n",
    "\n",
    "import json\n",
    "import os\n",
    "import cv2\n",
    "import numpy as np\n",
    "import torch\n",
    "from PIL import Image\n",
    "from pytorch_lightning import seed_everything\n",
    "from glob import glob\n",
    "import matplotlib.pyplot as plt\n",
    "\n",
    "from cldm.model import create_model, load_state_dict\n",
    "from dataset import PhotoSketchDataset\n",
    "from inference import run_sampler\n",
    "from share import *"
   ]
  },
  {
   "cell_type": "code",
   "execution_count": 4,
   "id": "cfe1aa2b-c788-44d9-9002-f84c96d691ff",
   "metadata": {},
   "outputs": [
    {
     "name": "stdout",
     "output_type": "stream",
     "text": [
      "No module 'xformers'. Proceeding without it.\n",
      "ControlLDM: Running in eps-prediction mode\n",
      "DiffusionWrapper has 859.52 M params.\n",
      "making attention of type 'vanilla' with 512 in_channels\n",
      "Working with z of shape (1, 4, 32, 32) = 4096 dimensions.\n",
      "making attention of type 'vanilla' with 512 in_channels\n",
      "Loaded model config from [../models/cldm_v15.yaml]\n"
     ]
    }
   ],
   "source": [
    "model = create_model('../models/cldm_v15.yaml').cpu()"
   ]
  },
  {
   "cell_type": "code",
   "execution_count": 5,
   "id": "cef8a6b7-0fcb-4f68-b0dd-cd23dd362bb5",
   "metadata": {},
   "outputs": [
    {
     "name": "stdout",
     "output_type": "stream",
     "text": [
      "Loaded state_dict from [/raid/lingo/alexisro/ControlNet/project/experiments/cropped/from_finetuned_patience_20/lr=1e-06_bs=4/lightning_logs/version_0/checkpoints/epoch=41-step=4199.ckpt]\n"
     ]
    }
   ],
   "source": [
    "# CKPT_PATH = \"/raid/lingo/alexisro/ControlNet/project/experiments/sketch_0503/lightning_logs/version_9/checkpoints/epoch=28-step=57999.ckpt\"\n",
    "CKPT_PATH = \"/raid/lingo/alexisro/ControlNet/project/experiments/cropped/from_finetuned_patience_20/lr=1e-06_bs=4/lightning_logs/version_0/checkpoints/epoch=41-step=4199.ckpt\"\n",
    "\n",
    "model.load_state_dict(load_state_dict(CKPT_PATH, location='cuda'))\n",
    "model = model.cuda()"
   ]
  },
  {
   "cell_type": "code",
   "execution_count": 7,
   "id": "01309499-ac19-4e28-98e2-d025b45d2a11",
   "metadata": {},
   "outputs": [],
   "source": [
    "def display_images_in_grid(sketches, outputs, prompt, save_path=None):\n",
    "    # Assuming you have two lists of image arrays called \"sketches\" and \"outputs\"\n",
    "    num_images = len(sketches)\n",
    "\n",
    "    # Calculate the number of rows needed to display the images in a grid\n",
    "    num_rows = 2\n",
    "\n",
    "    # Calculate the number of columns needed to display the images in a grid\n",
    "    num_cols = len(sketches)\n",
    "\n",
    "    # Create a new figure\n",
    "    fig, axes = plt.subplots(num_rows, num_cols, figsize=(num_cols*2, num_rows*2), gridspec_kw={'wspace': 0., 'hspace': 0.})\n",
    "\n",
    "    # Loop through the sketch and output image arrays and display each one in a subplot\n",
    "    for i, (sketch, output) in enumerate(zip(sketches, outputs)):\n",
    "        row = 0\n",
    "        col = i\n",
    "\n",
    "        axes[row, col].imshow(sketch)\n",
    "        axes[row + 1, col].imshow(output)\n",
    "\n",
    "        axes[row, col].axis('off')\n",
    "        axes[row + 1, col].axis('off')\n",
    "\n",
    "    plt.subplots_adjust(wspace=0., hspace=0.)\n",
    "    plt.suptitle(prompt, fontsize=24)\n",
    "    plt.tight_layout()\n",
    "\n",
    "    if save_path:\n",
    "        plt.savefig(save_path, dpi=300, bbox_inches=\"tight\")\n",
    "    else:\n",
    "        plt.show()"
   ]
  },
  {
   "cell_type": "code",
   "execution_count": null,
   "id": "998b1de6-f3b9-49a2-8ffb-6de612babba4",
   "metadata": {},
   "outputs": [
    {
     "name": "stderr",
     "output_type": "stream",
     "text": [
      "Global seed set to 42\n"
     ]
    },
    {
     "name": "stdout",
     "output_type": "stream",
     "text": [
      "data/frame_sequences/sketches/svg_0270_02_frames\n",
      "a group of people walking on a beach\n",
      "Data shape for DDIM sampling is (1, 4, 64, 96), eta 0.0\n",
      "Running DDIM Sampling with 20 timesteps\n"
     ]
    },
    {
     "name": "stderr",
     "output_type": "stream",
     "text": [
      "Global seed set to 42\n"
     ]
    },
    {
     "name": "stdout",
     "output_type": "stream",
     "text": [
      "Data shape for DDIM sampling is (1, 4, 64, 96), eta 0.0\n",
      "Running DDIM Sampling with 20 timesteps\n"
     ]
    },
    {
     "name": "stderr",
     "output_type": "stream",
     "text": [
      "Global seed set to 42\n"
     ]
    },
    {
     "name": "stdout",
     "output_type": "stream",
     "text": [
      "Data shape for DDIM sampling is (1, 4, 64, 96), eta 0.0\n",
      "Running DDIM Sampling with 20 timesteps\n"
     ]
    },
    {
     "name": "stderr",
     "output_type": "stream",
     "text": [
      "Global seed set to 42\n"
     ]
    },
    {
     "name": "stdout",
     "output_type": "stream",
     "text": [
      "Data shape for DDIM sampling is (1, 4, 64, 96), eta 0.0\n",
      "Running DDIM Sampling with 20 timesteps\n"
     ]
    },
    {
     "name": "stderr",
     "output_type": "stream",
     "text": [
      "Global seed set to 42\n"
     ]
    },
    {
     "name": "stdout",
     "output_type": "stream",
     "text": [
      "Data shape for DDIM sampling is (1, 4, 64, 96), eta 0.0\n",
      "Running DDIM Sampling with 20 timesteps\n"
     ]
    },
    {
     "name": "stderr",
     "output_type": "stream",
     "text": [
      "Global seed set to 42\n"
     ]
    },
    {
     "name": "stdout",
     "output_type": "stream",
     "text": [
      "Data shape for DDIM sampling is (1, 4, 64, 96), eta 0.0\n",
      "Running DDIM Sampling with 20 timesteps\n"
     ]
    },
    {
     "name": "stderr",
     "output_type": "stream",
     "text": [
      "Global seed set to 42\n"
     ]
    },
    {
     "name": "stdout",
     "output_type": "stream",
     "text": [
      "Data shape for DDIM sampling is (1, 4, 64, 96), eta 0.0\n",
      "Running DDIM Sampling with 20 timesteps\n"
     ]
    },
    {
     "name": "stderr",
     "output_type": "stream",
     "text": [
      "Global seed set to 42\n"
     ]
    },
    {
     "name": "stdout",
     "output_type": "stream",
     "text": [
      "Data shape for DDIM sampling is (1, 4, 64, 96), eta 0.0\n",
      "Running DDIM Sampling with 20 timesteps\n"
     ]
    },
    {
     "name": "stderr",
     "output_type": "stream",
     "text": [
      "Global seed set to 42\n"
     ]
    },
    {
     "name": "stdout",
     "output_type": "stream",
     "text": [
      "data/frame_sequences/sketches/svg_0755_03_frames\n",
      "a boy and a girl playing frisbee by a pond\n",
      "Data shape for DDIM sampling is (1, 4, 64, 96), eta 0.0\n",
      "Running DDIM Sampling with 20 timesteps\n"
     ]
    },
    {
     "name": "stderr",
     "output_type": "stream",
     "text": [
      "Global seed set to 42\n"
     ]
    },
    {
     "name": "stdout",
     "output_type": "stream",
     "text": [
      "Data shape for DDIM sampling is (1, 4, 64, 96), eta 0.0\n",
      "Running DDIM Sampling with 20 timesteps\n"
     ]
    },
    {
     "name": "stderr",
     "output_type": "stream",
     "text": [
      "Global seed set to 42\n"
     ]
    },
    {
     "name": "stdout",
     "output_type": "stream",
     "text": [
      "Data shape for DDIM sampling is (1, 4, 64, 96), eta 0.0\n",
      "Running DDIM Sampling with 20 timesteps\n"
     ]
    },
    {
     "name": "stderr",
     "output_type": "stream",
     "text": [
      "Global seed set to 42\n"
     ]
    },
    {
     "name": "stdout",
     "output_type": "stream",
     "text": [
      "Data shape for DDIM sampling is (1, 4, 64, 96), eta 0.0\n",
      "Running DDIM Sampling with 20 timesteps\n"
     ]
    },
    {
     "name": "stderr",
     "output_type": "stream",
     "text": [
      "Global seed set to 42\n"
     ]
    },
    {
     "name": "stdout",
     "output_type": "stream",
     "text": [
      "Data shape for DDIM sampling is (1, 4, 64, 96), eta 0.0\n",
      "Running DDIM Sampling with 20 timesteps\n"
     ]
    },
    {
     "name": "stderr",
     "output_type": "stream",
     "text": [
      "Global seed set to 42\n"
     ]
    },
    {
     "name": "stdout",
     "output_type": "stream",
     "text": [
      "Data shape for DDIM sampling is (1, 4, 64, 96), eta 0.0\n",
      "Running DDIM Sampling with 20 timesteps\n"
     ]
    },
    {
     "name": "stderr",
     "output_type": "stream",
     "text": [
      "Global seed set to 42\n"
     ]
    },
    {
     "name": "stdout",
     "output_type": "stream",
     "text": [
      "Data shape for DDIM sampling is (1, 4, 64, 96), eta 0.0\n",
      "Running DDIM Sampling with 20 timesteps\n"
     ]
    },
    {
     "name": "stderr",
     "output_type": "stream",
     "text": [
      "Global seed set to 42\n"
     ]
    },
    {
     "name": "stdout",
     "output_type": "stream",
     "text": [
      "Data shape for DDIM sampling is (1, 4, 64, 96), eta 0.0\n",
      "Running DDIM Sampling with 20 timesteps\n"
     ]
    },
    {
     "name": "stderr",
     "output_type": "stream",
     "text": [
      "Global seed set to 42\n"
     ]
    },
    {
     "name": "stdout",
     "output_type": "stream",
     "text": [
      "data/frame_sequences/sketches/svg_0797_04_frames\n",
      "a small white dog standing on top of a wooden bench\n",
      "Data shape for DDIM sampling is (1, 4, 64, 72), eta 0.0\n",
      "Running DDIM Sampling with 20 timesteps\n"
     ]
    },
    {
     "name": "stderr",
     "output_type": "stream",
     "text": [
      "Global seed set to 42\n"
     ]
    },
    {
     "name": "stdout",
     "output_type": "stream",
     "text": [
      "Data shape for DDIM sampling is (1, 4, 64, 72), eta 0.0\n",
      "Running DDIM Sampling with 20 timesteps\n"
     ]
    },
    {
     "name": "stderr",
     "output_type": "stream",
     "text": [
      "Global seed set to 42\n"
     ]
    },
    {
     "name": "stdout",
     "output_type": "stream",
     "text": [
      "Data shape for DDIM sampling is (1, 4, 64, 72), eta 0.0\n",
      "Running DDIM Sampling with 20 timesteps\n"
     ]
    },
    {
     "name": "stderr",
     "output_type": "stream",
     "text": [
      "Global seed set to 42\n"
     ]
    },
    {
     "name": "stdout",
     "output_type": "stream",
     "text": [
      "Data shape for DDIM sampling is (1, 4, 64, 72), eta 0.0\n",
      "Running DDIM Sampling with 20 timesteps\n"
     ]
    },
    {
     "name": "stderr",
     "output_type": "stream",
     "text": [
      "Global seed set to 42\n"
     ]
    },
    {
     "name": "stdout",
     "output_type": "stream",
     "text": [
      "Data shape for DDIM sampling is (1, 4, 64, 72), eta 0.0\n",
      "Running DDIM Sampling with 20 timesteps\n"
     ]
    },
    {
     "name": "stderr",
     "output_type": "stream",
     "text": [
      "Global seed set to 42\n"
     ]
    },
    {
     "name": "stdout",
     "output_type": "stream",
     "text": [
      "Data shape for DDIM sampling is (1, 4, 64, 72), eta 0.0\n",
      "Running DDIM Sampling with 20 timesteps\n"
     ]
    },
    {
     "name": "stderr",
     "output_type": "stream",
     "text": [
      "Global seed set to 42\n"
     ]
    },
    {
     "name": "stdout",
     "output_type": "stream",
     "text": [
      "Data shape for DDIM sampling is (1, 4, 64, 72), eta 0.0\n",
      "Running DDIM Sampling with 20 timesteps\n"
     ]
    },
    {
     "name": "stderr",
     "output_type": "stream",
     "text": [
      "Global seed set to 42\n"
     ]
    },
    {
     "name": "stdout",
     "output_type": "stream",
     "text": [
      "Data shape for DDIM sampling is (1, 4, 64, 72), eta 0.0\n",
      "Running DDIM Sampling with 20 timesteps\n"
     ]
    },
    {
     "name": "stderr",
     "output_type": "stream",
     "text": [
      "Global seed set to 42\n"
     ]
    },
    {
     "name": "stdout",
     "output_type": "stream",
     "text": [
      "data/frame_sequences/sketches/svg_0968_04_frames\n",
      "a man standing on top of a sandy beach next to the ocean\n",
      "Data shape for DDIM sampling is (1, 4, 64, 88), eta 0.0\n",
      "Running DDIM Sampling with 20 timesteps\n"
     ]
    },
    {
     "name": "stderr",
     "output_type": "stream",
     "text": [
      "Global seed set to 42\n"
     ]
    },
    {
     "name": "stdout",
     "output_type": "stream",
     "text": [
      "Data shape for DDIM sampling is (1, 4, 64, 88), eta 0.0\n",
      "Running DDIM Sampling with 20 timesteps\n"
     ]
    },
    {
     "name": "stderr",
     "output_type": "stream",
     "text": [
      "Global seed set to 42\n"
     ]
    },
    {
     "name": "stdout",
     "output_type": "stream",
     "text": [
      "Data shape for DDIM sampling is (1, 4, 64, 88), eta 0.0\n",
      "Running DDIM Sampling with 20 timesteps\n"
     ]
    },
    {
     "name": "stderr",
     "output_type": "stream",
     "text": [
      "Global seed set to 42\n"
     ]
    },
    {
     "name": "stdout",
     "output_type": "stream",
     "text": [
      "Data shape for DDIM sampling is (1, 4, 64, 88), eta 0.0\n",
      "Running DDIM Sampling with 20 timesteps\n"
     ]
    },
    {
     "name": "stderr",
     "output_type": "stream",
     "text": [
      "Global seed set to 42\n"
     ]
    },
    {
     "name": "stdout",
     "output_type": "stream",
     "text": [
      "Data shape for DDIM sampling is (1, 4, 64, 88), eta 0.0\n",
      "Running DDIM Sampling with 20 timesteps\n"
     ]
    },
    {
     "name": "stderr",
     "output_type": "stream",
     "text": [
      "Global seed set to 42\n"
     ]
    },
    {
     "name": "stdout",
     "output_type": "stream",
     "text": [
      "Data shape for DDIM sampling is (1, 4, 64, 88), eta 0.0\n",
      "Running DDIM Sampling with 20 timesteps\n"
     ]
    },
    {
     "name": "stderr",
     "output_type": "stream",
     "text": [
      "Global seed set to 42\n"
     ]
    },
    {
     "name": "stdout",
     "output_type": "stream",
     "text": [
      "Data shape for DDIM sampling is (1, 4, 64, 88), eta 0.0\n",
      "Running DDIM Sampling with 20 timesteps\n"
     ]
    },
    {
     "name": "stderr",
     "output_type": "stream",
     "text": [
      "Global seed set to 42\n"
     ]
    },
    {
     "name": "stdout",
     "output_type": "stream",
     "text": [
      "Data shape for DDIM sampling is (1, 4, 64, 88), eta 0.0\n",
      "Running DDIM Sampling with 20 timesteps\n"
     ]
    },
    {
     "name": "stderr",
     "output_type": "stream",
     "text": [
      "Global seed set to 42\n"
     ]
    },
    {
     "name": "stdout",
     "output_type": "stream",
     "text": [
      "data/frame_sequences/sketches/svg_1000_02_frames\n",
      "a woman holding a frisbee with a dog on a leash\n",
      "Data shape for DDIM sampling is (1, 4, 96, 64), eta 0.0\n",
      "Running DDIM Sampling with 20 timesteps\n"
     ]
    }
   ],
   "source": [
    "DIR_FRAME_SEQUENCES = \"data/frame_sequences/sketches/\"\n",
    "DIR_RENDERS_OUT = \"data/frame_sequences/renders/\"\n",
    "os.makedirs(DIR_RENDERS_OUT, exist_ok=True)\n",
    "\n",
    "DIR_CAPTIONS = \"lavis/captions/\"\n",
    "DIR_SKETCH_GROUNDTRUTH = \"data/sketch/\"\n",
    "\n",
    "N_FRAMES_PER_SEQUENCE = 8\n",
    "IMAGE_RESOLUTION = 512\n",
    "SEED = 42\n",
    "\n",
    "render_results = []\n",
    "\n",
    "for dir_frames in sorted(glob(os.path.join(DIR_FRAME_SEQUENCES, \"*\"))):\n",
    "    print(dir_frames)\n",
    "    svg_id = os.path.split(dir_frames)[-1][len(\"svg_\"):len(\"svg_\")+4]\n",
    "    svg_version_id = os.path.split(dir_frames)[-1][len(\"svg_XXXX_\"):len(\"svg_XXXX_\")+2]\n",
    "    \n",
    "    # Get caption\n",
    "    caption_path = os.path.join(DIR_CAPTIONS, f\"{str(svg_id).zfill(8)}.json\")    \n",
    "    with open(caption_path, \"r\") as f:\n",
    "        caption_text = json.load(f)[0]\n",
    "        print(caption_text)\n",
    "    \n",
    "    frame_paths = sorted(glob(os.path.join(dir_frames, \"*.png\")))\n",
    "\n",
    "    sketches, outputs = [], []\n",
    "    \n",
    "    frame_range = np.linspace(1, len(frame_paths) - 1, N_FRAMES_PER_SEQUENCE, endpoint=True, dtype=int)\n",
    "\n",
    "    for i, idx in enumerate(frame_range):\n",
    "        path = frame_paths[idx]\n",
    "        \n",
    "        sketch = cv2.imread(path)\n",
    "\n",
    "        results = run_sampler(model, sketch, caption_text, seed=SEED, image_resolution=IMAGE_RESOLUTION, show_progress=False)\n",
    "        sketches.append(sketch)\n",
    "        outputs.append(results[0])\n",
    "        \n",
    "    render_results.append((svg_id, caption_text, sketches, outputs))\n",
    "        \n",
    "    save_path = os.path.join(DIR_RENDERS_OUT, f\"sequence_{svg_id}_{svg_version_id}.png\")\n",
    "    display_images_in_grid(sketches, outputs, caption_text, save_path=save_path)"
   ]
  },
  {
   "cell_type": "code",
   "execution_count": 8,
   "id": "e83ca6b9-c256-4572-b645-020458693e9c",
   "metadata": {},
   "outputs": [],
   "source": [
    "for svg_id, caption_text, sketches, outputs in render_results:        \n",
    "    save_path = os.path.join(DIR_RENDERS_OUT, f\"sequence_{svg_id}.png\")\n",
    "    # display_images_in_grid(sketches, outputs, caption_text)\n",
    "    display_images_in_grid(sketches, outputs, caption_text, save_path=save_path)"
   ]
  },
  {
   "cell_type": "code",
   "execution_count": null,
   "id": "f4fb9c55-9065-4ff5-b112-bc5203551294",
   "metadata": {},
   "outputs": [],
   "source": []
  }
 ],
 "metadata": {
  "kernelspec": {
   "display_name": "Python 3",
   "language": "python",
   "name": "python3"
  },
  "language_info": {
   "codemirror_mode": {
    "name": "ipython",
    "version": 3
   },
   "file_extension": ".py",
   "mimetype": "text/x-python",
   "name": "python",
   "nbconvert_exporter": "python",
   "pygments_lexer": "ipython3",
   "version": "3.8.5"
  }
 },
 "nbformat": 4,
 "nbformat_minor": 5
}
